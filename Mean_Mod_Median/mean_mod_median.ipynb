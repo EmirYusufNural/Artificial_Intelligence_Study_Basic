{
 "cells": [
  {
   "cell_type": "code",
   "execution_count": null,
   "id": "d49a4478",
   "metadata": {},
   "outputs": [],
   "source": []
  },
  {
   "cell_type": "code",
   "execution_count": 60,
   "id": "bb95492e",
   "metadata": {},
   "outputs": [],
   "source": [
    "import numpy as np"
   ]
  },
  {
   "cell_type": "code",
   "execution_count": 61,
   "id": "119d5542",
   "metadata": {},
   "outputs": [
    {
     "data": {
      "text/plain": [
       "array([6781.56437545, 5591.23436951, 3166.70282437, ..., 5254.0658451 ,\n",
       "       8060.65191733, 5680.29579882])"
      ]
     },
     "execution_count": 61,
     "metadata": {},
     "output_type": "execute_result"
    }
   ],
   "source": [
    "#Random kullanarak sample bir veri setini kendimiz oluşturalım.\n",
    "#Aylık gelir 5000 TL,standart deviation 2000 TL olsun ve 1000 kişinin randım aylık gelirini oluşturalım:\n",
    "gelirler = np.random.normal(5000,2000,10000)\n",
    "gelirler"
   ]
  },
  {
   "cell_type": "code",
   "execution_count": 62,
   "id": "55139c6e",
   "metadata": {},
   "outputs": [
    {
     "data": {
      "text/plain": [
       "4977.938709284073"
      ]
     },
     "execution_count": 62,
     "metadata": {},
     "output_type": "execute_result"
    }
   ],
   "source": [
    "np.mean(gelirler)"
   ]
  },
  {
   "cell_type": "code",
   "execution_count": 63,
   "id": "c2bb9c65",
   "metadata": {},
   "outputs": [
    {
     "data": {
      "image/png": "[encoded data removed]",
      "text/plain": [
       "<Figure size 640x480 with 1 Axes>"
      ]
     },
     "metadata": {},
     "output_type": "display_data"
    }
   ],
   "source": [
    "import matplotlib.pyplot as plt\n",
    "plt.hist(gelirler,100)\n",
    "plt.show()"
   ]
  },
  {
   "cell_type": "code",
   "execution_count": 64,
   "id": "34172f9e",
   "metadata": {},
   "outputs": [
    {
     "data": {
      "text/plain": [
       "4969.593184054243"
      ]
     },
     "execution_count": 64,
     "metadata": {},
     "output_type": "execute_result"
    }
   ],
   "source": [
    "np.median(gelirler)"
   ]
  },
  {
   "cell_type": "code",
   "execution_count": 65,
   "id": "373ce1b9",
   "metadata": {},
   "outputs": [],
   "source": [
    "# Herşey şimdiye kadar çok güzeldi ancak diyelim ki Bill Gates de tesadüfen biizm veri setimizin içine girerse:\n",
    "gelirler = np.append(gelirler, [100000]).astype(int)"
   ]
  },
  {
   "cell_type": "code",
   "execution_count": 66,
   "id": "d9f4c0f7",
   "metadata": {},
   "outputs": [
    {
     "data": {
      "text/plain": [
       "4986.95200479952"
      ]
     },
     "execution_count": 66,
     "metadata": {},
     "output_type": "execute_result"
    }
   ],
   "source": [
    "np.mean(gelirler)"
   ]
  },
  {
   "cell_type": "code",
   "execution_count": 67,
   "id": "43301186",
   "metadata": {},
   "outputs": [
    {
     "data": {
      "text/plain": [
       "4969.0"
      ]
     },
     "execution_count": 67,
     "metadata": {},
     "output_type": "execute_result"
    }
   ],
   "source": [
    "np.median(gelirler) #Bazen Median değeri daha doğru sonuç verebilir, her şey veri setinize bağlı!"
   ]
  },
  {
   "cell_type": "code",
   "execution_count": 68,
   "id": "195a571d",
   "metadata": {},
   "outputs": [
    {
     "data": {
      "text/plain": [
       "ModeResult(mode=9, count=37)"
      ]
     },
     "execution_count": 68,
     "metadata": {},
     "output_type": "execute_result"
    }
   ],
   "source": [
    "#Mode:\n",
    "#Okuldaki çocukların ortalama yaş değerlerini random oluşturalım,toplam 300 öğrenci,yaşlar 7 ile 18 arasında ;\n",
    "yaslar = np.random.randint(7,18, size=300)\n",
    "\n",
    "from scipy import stats\n",
    "stats.mode(yaslar)\n"
   ]
  },
  {
   "cell_type": "code",
   "execution_count": 69,
   "id": "34d1d332",
   "metadata": {},
   "outputs": [],
   "source": [
    "#En sık değer, mod  = 15, 35 kez tekrar ediyor."
   ]
  },
  {
   "cell_type": "code",
   "execution_count": 70,
   "id": "9ffc122b",
   "metadata": {},
   "outputs": [
    {
     "data": {
      "text/plain": [
       "11.0"
      ]
     },
     "execution_count": 70,
     "metadata": {},
     "output_type": "execute_result"
    }
   ],
   "source": [
    "np.median(yaslar)"
   ]
  },
  {
   "cell_type": "code",
   "execution_count": 72,
   "id": "cdea6f96",
   "metadata": {
    "scrolled": true
   },
   "outputs": [
    {
     "data": {
      "text/plain": [
       "11.593333333333334"
      ]
     },
     "execution_count": 72,
     "metadata": {},
     "output_type": "execute_result"
    }
   ],
   "source": [
    "np.mean(yaslar)"
   ]
  }
 ],
 "metadata": {
  "kernelspec": {
   "display_name": "Python 3 (ipykernel)",
   "language": "python",
   "name": "python3"
  },
  "language_info": {
   "codemirror_mode": {
    "name": "ipython",
    "version": 3
   },
   "file_extension": ".py",
   "mimetype": "text/x-python",
   "name": "python",
   "nbconvert_exporter": "python",
   "pygments_lexer": "ipython3",
   "version": "3.11.5"
  }
 },
 "nbformat": 4,
 "nbformat_minor": 5
}
